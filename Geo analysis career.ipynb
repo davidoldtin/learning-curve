{
 "cells": [
  {
   "cell_type": "code",
   "execution_count": null,
   "metadata": {},
   "outputs": [],
   "source": [
    "#libraries\n",
    "import pandas as pd\n",
    "import numpy as np\n",
    "import pickle\n",
    "\n",
    "#tools\n",
    "#for plotting \n",
    "import matplotlib.pyplot as plt\n",
    "from matplotlib import style\n",
    "import seaborn as sb\n",
    "%matplotlib inline\n",
    "base_color = sb.color_palette()[0]\n",
    "#for analysis\n",
    "import pandas_profiling\n",
    "#for training model\n",
    "from sklearn.model_selection import train_test_split\n",
    "from sklearn import linear_model\n",
    "\n",
    "\n"
   ]
  },
  {
   "cell_type": "code",
   "execution_count": 68,
   "metadata": {},
   "outputs": [
    {
     "data": {
      "text/html": [
       "<div>\n",
       "<style scoped>\n",
       "    .dataframe tbody tr th:only-of-type {\n",
       "        vertical-align: middle;\n",
       "    }\n",
       "\n",
       "    .dataframe tbody tr th {\n",
       "        vertical-align: top;\n",
       "    }\n",
       "\n",
       "    .dataframe thead th {\n",
       "        text-align: right;\n",
       "    }\n",
       "</style>\n",
       "<table border=\"1\" class=\"dataframe\">\n",
       "  <thead>\n",
       "    <tr style=\"text-align: right;\">\n",
       "      <th></th>\n",
       "      <th>Country</th>\n",
       "      <th>ISO_CODE</th>\n",
       "      <th>Year</th>\n",
       "      <th>Deaths</th>\n",
       "      <th>Cause</th>\n",
       "      <th>Male POP</th>\n",
       "      <th>Female POP</th>\n",
       "      <th>Total Pop</th>\n",
       "      <th>GDP</th>\n",
       "      <th>PCAP</th>\n",
       "    </tr>\n",
       "  </thead>\n",
       "  <tbody>\n",
       "    <tr>\n",
       "      <th>0</th>\n",
       "      <td>Afghanistan</td>\n",
       "      <td>AFG</td>\n",
       "      <td>1980</td>\n",
       "      <td>0</td>\n",
       "      <td>Natural Disaster</td>\n",
       "      <td>6788279.0</td>\n",
       "      <td>6568232.0</td>\n",
       "      <td>13356511.0</td>\n",
       "      <td>3.641723e+09</td>\n",
       "      <td>272.655286</td>\n",
       "    </tr>\n",
       "    <tr>\n",
       "      <th>1</th>\n",
       "      <td>Albania</td>\n",
       "      <td>ALB</td>\n",
       "      <td>1980</td>\n",
       "      <td>0</td>\n",
       "      <td>Natural Disaster</td>\n",
       "      <td>1371795.0</td>\n",
       "      <td>1300202.0</td>\n",
       "      <td>2671997.0</td>\n",
       "      <td>0.000000e+00</td>\n",
       "      <td>0.000000</td>\n",
       "    </tr>\n",
       "    <tr>\n",
       "      <th>2</th>\n",
       "      <td>Algeria</td>\n",
       "      <td>DZA</td>\n",
       "      <td>1980</td>\n",
       "      <td>2635</td>\n",
       "      <td>Natural Disaster</td>\n",
       "      <td>9682121.0</td>\n",
       "      <td>9539544.0</td>\n",
       "      <td>19221665.0</td>\n",
       "      <td>4.234528e+10</td>\n",
       "      <td>2202.997365</td>\n",
       "    </tr>\n",
       "    <tr>\n",
       "      <th>3</th>\n",
       "      <td>American Samoa</td>\n",
       "      <td>ASM</td>\n",
       "      <td>1980</td>\n",
       "      <td>0</td>\n",
       "      <td>Natural Disaster</td>\n",
       "      <td>0.0</td>\n",
       "      <td>0.0</td>\n",
       "      <td>0.0</td>\n",
       "      <td>0.000000e+00</td>\n",
       "      <td>0.000000</td>\n",
       "    </tr>\n",
       "    <tr>\n",
       "      <th>4</th>\n",
       "      <td>Angola</td>\n",
       "      <td>AGO</td>\n",
       "      <td>1980</td>\n",
       "      <td>0</td>\n",
       "      <td>Natural Disaster</td>\n",
       "      <td>4226098.0</td>\n",
       "      <td>4115191.0</td>\n",
       "      <td>8341289.0</td>\n",
       "      <td>5.930503e+09</td>\n",
       "      <td>710.981648</td>\n",
       "    </tr>\n",
       "  </tbody>\n",
       "</table>\n",
       "</div>"
      ],
      "text/plain": [
       "          Country ISO_CODE  Year  Deaths             Cause   Male POP  \\\n",
       "0     Afghanistan      AFG  1980       0  Natural Disaster  6788279.0   \n",
       "1         Albania      ALB  1980       0  Natural Disaster  1371795.0   \n",
       "2         Algeria      DZA  1980    2635  Natural Disaster  9682121.0   \n",
       "3  American Samoa      ASM  1980       0  Natural Disaster        0.0   \n",
       "4          Angola      AGO  1980       0  Natural Disaster  4226098.0   \n",
       "\n",
       "   Female POP   Total Pop           GDP         PCAP  \n",
       "0   6568232.0  13356511.0  3.641723e+09   272.655286  \n",
       "1   1300202.0   2671997.0  0.000000e+00     0.000000  \n",
       "2   9539544.0  19221665.0  4.234528e+10  2202.997365  \n",
       "3         0.0         0.0  0.000000e+00     0.000000  \n",
       "4   4115191.0   8341289.0  5.930503e+09   710.981648  "
      ]
     },
     "execution_count": 68,
     "metadata": {},
     "output_type": "execute_result"
    }
   ],
   "source": [
    "naturaldisasters = pd.read_csv('natural disaster.csv')\n",
    "natdis=naturaldisasters.fillna(0)\n",
    "natdis.head()\n"
   ]
  },
  {
   "cell_type": "code",
   "execution_count": 69,
   "metadata": {},
   "outputs": [],
   "source": [
    "# features\n",
    "feature=['Deaths', 'Male POP', 'Female POP', 'GDP']\n",
    "x=natdis[feature]\n",
    "y= natdis['PCAP']"
   ]
  },
  {
   "cell_type": "code",
   "execution_count": 70,
   "metadata": {},
   "outputs": [],
   "source": [
    "x_train, x_val, y_train, y_val = train_test_split(x, y, test_size=0.1,)"
   ]
  },
  {
   "cell_type": "code",
   "execution_count": 71,
   "metadata": {},
   "outputs": [
    {
     "data": {
      "text/plain": [
       "0.13750466969069852"
      ]
     },
     "execution_count": 71,
     "metadata": {},
     "output_type": "execute_result"
    }
   ],
   "source": [
    "linear= linear_model.LinearRegression()\n",
    "linear.fit(x_train,y_train)\n",
    "linear.score(x_val,y_val)\n",
    "\n",
    "\n"
   ]
  },
  {
   "cell_type": "code",
   "execution_count": 74,
   "metadata": {},
   "outputs": [
    {
     "ename": "TypeError",
     "evalue": "'LinearRegression' object is not iterable",
     "output_type": "error",
     "traceback": [
      "\u001b[1;31m---------------------------------------------------------------------------\u001b[0m",
      "\u001b[1;31mTypeError\u001b[0m                                 Traceback (most recent call last)",
      "\u001b[1;32m<ipython-input-74-32d9036ee877>\u001b[0m in \u001b[0;36m<module>\u001b[1;34m\u001b[0m\n\u001b[1;32m----> 1\u001b[1;33m \u001b[1;32mfor\u001b[0m \u001b[0mx\u001b[0m \u001b[1;32min\u001b[0m \u001b[0mlinears\u001b[0m\u001b[1;33m:\u001b[0m\u001b[1;33m\u001b[0m\u001b[1;33m\u001b[0m\u001b[0m\n\u001b[0m\u001b[0;32m      2\u001b[0m     \u001b[0mprint\u001b[0m\u001b[1;33m(\u001b[0m\u001b[0mlinear\u001b[0m\u001b[1;33m(\u001b[0m\u001b[0mx\u001b[0m\u001b[1;33m)\u001b[0m\u001b[1;33m,\u001b[0m \u001b[0mx_test\u001b[0m\u001b[1;33m(\u001b[0m\u001b[0mx\u001b[0m\u001b[1;33m)\u001b[0m\u001b[1;33m,\u001b[0m\u001b[0my_test\u001b[0m\u001b[1;33m(\u001b[0m\u001b[0mx\u001b[0m\u001b[1;33m)\u001b[0m\u001b[1;33m)\u001b[0m\u001b[1;33m\u001b[0m\u001b[1;33m\u001b[0m\u001b[0m\n",
      "\u001b[1;31mTypeError\u001b[0m: 'LinearRegression' object is not iterable"
     ]
    }
   ],
   "source": [
    "#saving the model\n",
    "with open ('risks.pickle','wb') as f:\n",
    "    pickle.dump('linear', f)\n",
    "pickle_in=pickle.load('risk.pickle', 'rb')\n",
    "    "
   ]
  },
  {
   "cell_type": "raw",
   "metadata": {},
   "source": [
    "this is the end of the code"
   ]
  }
 ],
 "metadata": {
  "kernelspec": {
   "display_name": "Python 3",
   "language": "python",
   "name": "python3"
  },
  "language_info": {
   "codemirror_mode": {
    "name": "ipython",
    "version": 3
   },
   "file_extension": ".py",
   "mimetype": "text/x-python",
   "name": "python",
   "nbconvert_exporter": "python",
   "pygments_lexer": "ipython3",
   "version": "3.7.1"
  }
 },
 "nbformat": 4,
 "nbformat_minor": 4
}
